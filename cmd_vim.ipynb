{
 "cells": [
  {
   "cell_type": "markdown",
   "id": "685919f4",
   "metadata": {},
   "source": [
    "# Intercambiar entre los distintos modos de trabajo de VIM"
   ]
  },
  {
   "cell_type": "code",
   "execution_count": null,
   "id": "ca95aa4b",
   "metadata": {},
   "outputs": [],
   "source": [
    "import pandas as pd \n",
    "table_0 = {\"Atajos de teclado\": [\"i\", \"v\", \"V\", \"Ctrl\", \":\", \"Shift\", \"ESC\"], \"Funci\\u00f3n\": [\"Para acceder al modo inserci\\u00f3n. En el transcurso del art\\u00edculo ver\\u00e1n otros modos de acceder al modo inserci\\u00f3n.\", \"Para simplemente acceder al modo visual.\", \"Acceder al modo L\\u00ednea visual.\", \"Entrar en modo Bloque visual.\", \"Para acceder al modo comando. Estando en el modo normal tecleamos \", \"Permite acceder al modo reemplazar.\", \"Para salir de los modos inserci\\u00f3n, visual y comando y acceder al modo normal.\"]} \n",
    "df = pd.DataFrame(table_0) \n",
    "df"
   ]
  },
  {
   "cell_type": "markdown",
   "id": "2cb814a7",
   "metadata": {},
   "source": [
    "# Guardar documentos en VIM"
   ]
  },
  {
   "cell_type": "code",
   "execution_count": null,
   "id": "3754e76d",
   "metadata": {},
   "outputs": [],
   "source": [
    "import pandas as pd \n",
    "table_1 = {\"Atajos de teclado y comandos\": [\":w\", \":w nombre_fichero\", \":wq\"], \"Funci\\u00f3n\": [\"Guarda los cambios realizados al documento actual.\", \"Guarda el documento actual en un nuevo fichero. Es equivalente a guardar como.\", \" o \"]} \n",
    "df = pd.DataFrame(table_1) \n",
    "df"
   ]
  },
  {
   "cell_type": "markdown",
   "id": "b5398b37",
   "metadata": {},
   "source": [
    "# Salir de VIM"
   ]
  },
  {
   "cell_type": "code",
   "execution_count": null,
   "id": "5d7cf2e4",
   "metadata": {},
   "outputs": [],
   "source": [
    "import pandas as pd \n",
    "table_2 = {\"Atajos de teclado o comandos\": [\":q\", \":q!\", \":wqa!\", \":qa!\"], \"Funci\\u00f3n\": [\" o \", \"Salir del documento sin guardar cambios. Si hay cambios que no se han guardado no se ejecutar\\u00e1 el comando y recibiremos un advertencia.\", \"Guardar los cambios y salir en todos los ficheros/buffers que tenemos abiertos.\", \"Si tienes abiertos varios ficheros de forma simultanea y quieres \"]} \n",
    "df = pd.DataFrame(table_2) \n",
    "df"
   ]
  },
  {
   "cell_type": "markdown",
   "id": "a60005be",
   "metadata": {},
   "source": [
    "# Abrir documentos en VIM y moverse entre los distintos ficheros abiertos en los buffers"
   ]
  },
  {
   "cell_type": "code",
   "execution_count": null,
   "id": "c15d0b79",
   "metadata": {},
   "outputs": [],
   "source": [
    "import pandas as pd \n",
    "table_3 = {\"Atajos de teclado y comandos\": [\":e\", \":badd \", \":ls\", \":bn\", \":bp\", \":bl\", \":bf\", \":b_n\\u00famero_buffer\", \":bd\", \":bd2\", \":bd deuda.py\", \":ba\"], \"Funci\\u00f3n\": [\"Abrir una fichero adicional dentro de VIM. El fichero abierto se mostrar\\u00e1 en pantalla justo al abrirlo . Podemos tener abiertos varios documentos al mismo tiempo.\", \"A\\u00f1adir un buffer sin que sea mostrado en pantalla.\", \"Lista y numera todos los buffers/ficheros que tenemos abiertos.\", \"Ir al siguiente fichero/buffer que tenemos abierto. (Buffer_next).\", \"Ir al fichero/buffer anterior que tenemos abierto. (Buffer_previous)\", \"Para ver en pantalla el \\u00faltimo buffer abierto.\", \"Mostrar en pantalla el primer buffer abierto.\", \"Si anteriormente hemos listado los buffer vemos que tienen asociado un n\\u00famero. Para cambiar de buffer podemos ejecutar el comando \", \"Cerrar \\u00fanicamente el fichero/buffer actual que estamos editando.\", \"El comando \", \"El comando \", \"Mostrar todos los buffer en pantalla.\"]} \n",
    "df = pd.DataFrame(table_3) \n",
    "df"
   ]
  },
  {
   "cell_type": "markdown",
   "id": "59e93d89",
   "metadata": {},
   "source": [
    "# Trabajar con pestañas en VIM"
   ]
  },
  {
   "cell_type": "code",
   "execution_count": null,
   "id": "8025788e",
   "metadata": {},
   "outputs": [],
   "source": [
    "import pandas as pd \n",
    "table_4 = {\"Atajos de teclado o comandos\": [\":tabnew\", \":tabedit\", \":tabfind\", \":tab ball\", \":tab split\", \":tabs\", \"gt\", \"gT\", \"num_pestana+gt\", \":tabfirst\", \":tablast\", \":tabm 3\", \":tabm 0\", \":tabm\", \":tabclose!\", \":tabclose\", \":tabonly\", \"vim -p archivo1.sh archivo2.sh\"], \"Funci\\u00f3n\": [\"Abrir un fichero en una pesta\\u00f1a nueva.\", \"El fichero que queramos se abre en una pesta\\u00f1a nueva.\", \"Abre el fichero que queramos en una pesta\\u00f1a nueva. A medida que escribamos el nombre, si presionamos \", \"Todos los buffers abiertos se ponen en pesta\\u00f1as.\", \"Copiar el contenido de la ventana actual en una pesta\\u00f1a.\", \"Listar todas las pesta\\u00f1a abiertas.\", \" o \", \" o \", \"Para irnos a la pesta\\u00f1a n\\u00famero \", \"Ir a la primera pesta\\u00f1a.\", \"Ir a la \\u00faltima pesta\\u00f1a.\", \"Mueve la pesta\\u00f1a actual a la posici\\u00f3n \", \"Mover la pesta\\u00f1a actual a la primera posici\\u00f3n.\", \"Mover la pesta\\u00f1a actual a la \\u00faltima posici\\u00f3n.\", \" o \", \" o \", \"Cerrar todas las pesta\\u00f1as excepto la pesta\\u00f1a actual.\", \"Abrir los ficheros \"]} \n",
    "df = pd.DataFrame(table_4) \n",
    "df"
   ]
  },
  {
   "cell_type": "markdown",
   "id": "ef01a4f6",
   "metadata": {},
   "source": [
    "# Trabajar con ventanas y varios ficheros de forma simultanea en VIM"
   ]
  },
  {
   "cell_type": "code",
   "execution_count": null,
   "id": "dd7eede0",
   "metadata": {},
   "outputs": [],
   "source": [
    "import pandas as pd \n",
    "table_5 = {\"Atajos de teclado o comandos\": [\"Ctrl\", \"Ctrl\", \"Ctrl\", \"ctrl\", \"Ctrl\", \"Ctrl\", \"Ctrl\", \"Ctrl\", \"Ctrl\", \":split\", \":split nombre_fichero\", \":vsplit\", \":resize 40\", \":vertical resize 80\", \":vertical resize -5\", \":vertical resize +5\", \"Ctrl\", \"Ctrl\", \"Ctrl\", \"vim -o archivo1 archivo2 archivo3\"], \"Funci\\u00f3n\": [\"Dividir la ventana verticalmente.\", \"Dividir la ventana horizontalmente.\", \"Moverse entre la distintas ventanas abiertas en pantalla\", \"Cambiar de una ventana a otra.\", \"Hacer que todas las ventanas tengan la misma dimensi\\u00f3n.\", \"Cerrar la ventana sobre la que tenemos posicionado el cursor.\", \"Intercambiar de posici\\u00f3n las ventanas.\", \"Rotar ventana a la derecha.\", \"Rotar ventana a la izquierda.\", \"Dividir la pantalla horizontalmente.\", \"Abre un fichero y se parte la pantalla en 2 horizontalmente.\", \"Abre un fichero y se parte la pantalla en 2 verticalmente.\", \"Cambiar la altura de la ventana abierta a \", \"Cambiar el ancho de la ventana en \", \"Disminuir el ancho de la ventana en \", \"Incrementar el ancho de la ventana en \", \" y \", \" y \", \"Reiniciar el ancho y el alto de las ventanas.\", \"Abrir los ficheros \"]} \n",
    "df = pd.DataFrame(table_5) \n",
    "df"
   ]
  },
  {
   "cell_type": "markdown",
   "id": "225d7f74",
   "metadata": {},
   "source": [
    "# Editar texto y posicionar el puntero del cursor donde queramos de forma rápida"
   ]
  },
  {
   "cell_type": "code",
   "execution_count": null,
   "id": "322c4c22",
   "metadata": {},
   "outputs": [],
   "source": [
    "import pandas as pd \n",
    "table_6 = {\"Atajos de teclado\": [\"j\", \"k\", \"h\", \"l\", \"w\", \"W\", \"b\", \"B\", \"e\", \"E\", \"0\", \"$\", \"_\", \"+\", \"-\", \"shift \", \"shift \", \"gg\", \"G\", \"5\", \"10gg\", \"16 \", \"}\", \"{\", \"gi\", \"H\", \"M\", \"L\", \"Ctrl\", \"Ctrl\", \"Ctrl\", \"Ctrl\", \"Ctrl\", \"Ctrl\", \"Ctrl\", \"Ctrl\", \"i\", \"I\", \"a\", \"A\", \"o\", \"O\", \"ea\", \"Ctrl \", \"Ctrl \", \"Ctrl\"], \"Funci\\u00f3n\": [\" o \", \" o \", \" o \", \" o \", \"Mover el cursor al inicio de la siguiente palabra.\", \"Mover el cursor al inicio de la siguiente palabra. El punto de puntuaci\\u00f3n no es considerado como palabra.\", \"Mover el cursor al inicio a la palabra anterior.\", \"Mover el cursor al inicio a la palabra anterior. El punto de puntuaci\\u00f3n no es considerado como palabra.\", \"Desplazar el cursor al final de la palabra en que estamos o al final de la palabra siguiente.\", \"Desplazar el cursor al final de la palabra en que estamos o al final de la palabra siguiente. El punto de puntuaci\\u00f3n no es considerado como palabra.\", \"Posicionar el cursor al inicio de la l\\u00ednea actual.\", \" o \", \"Mueve el cursor al primer car\\u00e1cter que no sea un espacio en la l\\u00ednea actual. Este atajo es \\u00fatil cuando programamos.\", \"Mueve el cursor al primer car\\u00e1cter que no sea un espacio de la l\\u00ednea siguiente. Este atajo es \\u00fatil cuando programamos.\", \"Mueve el cursor al primer car\\u00e1cter que no sea un espacio de la l\\u00ednea anterior. Este atajo es \\u00fatil cuando programamos.\", \"Posicionar el cursor al final de la l\\u00ednea actual y cambiar al modo insertar.\", \"Mover el cursor del inicio de un par\\u00e9ntesis al final de un par\\u00e9ntesis y viceversa.\", \"Para dirigirse a la primera l\\u00ednea del fichero.\", \"Mover el cursor a la \\u00faltima l\\u00ednea del documento.\", \"Nos dirige 5 l\\u00edneas m\\u00e1s abajo respecto la l\\u00ednea actual.\", \"Posicionar el cursor a la l\\u00ednea 10 del documento.\", \"Nos dirige a la l\\u00ednea 16 del fichero de texto.\", \"Hacer saltar el cursor al p\\u00e1rrafo siguiente.\", \"Hacer saltar el cursor al p\\u00e1rrafo anterior.\", \"Posicionar el cursor en la \\u00faltima palabra editada del buffer actual.\", \"Mover el cursor a la parte superior de la pantalla.\", \"Mover el cursor a la parte media de la pantalla.\", \"Mover el cursor a la parte inferior de la pantalla\", \"Mover una pantalla hacia abajo sin mover el cursor de posici\\u00f3n.\", \"Mover una pantalla hacia arriba sin mover el cursor de posici\\u00f3n.\", \"Avanzar una pantalla.\", \"Retroceder una pantalla.\", \"Hacer avanzar el cursor media pantalla.\", \"Hacer retroceder el cursor media pantalla.\", \"Para que el cursor avance una palabra hacia la derecha \", \"Para que el cursor avance una palabra hacia la izquierda \", \"Insertar texto justo antes de donde tenemos posicionado el cursor.\", \"Insertar texto al principio de una l\\u00ednea.\", \"Insertar texto justo despu\\u00e9s de donde tenemos posicionado el cursor.\", \"Insertar texto al final de una l\\u00ednea.\", \"Crear un l\\u00ednea en blanco justo por debajo de la l\\u00ednea actual y pasar al modo inserci\\u00f3n.\", \"Crear un l\\u00ednea en blanco justo por encima de la l\\u00ednea actual y pasar al modo inserci\\u00f3n.\", \"Insertar texto despu\\u00e9s de una palabra.\", \"Autocompletar la palabra que tenemos escrita a medias con otra palabra anterior al cursor.\", \"Cambiar entre las distintas ventanas que podemos tener abiertas en VIM.\", \"Mostrar el n\\u00famero de l\\u00edneas de un fichero.\"]} \n",
    "df = pd.DataFrame(table_6) \n",
    "df"
   ]
  },
  {
   "cell_type": "markdown",
   "id": "2b75b45e",
   "metadata": {},
   "source": [
    "# Insertar texto repetitivo o secuencial en Vim"
   ]
  },
  {
   "cell_type": "code",
   "execution_count": null,
   "id": "6e93e472",
   "metadata": {},
   "outputs": [],
   "source": [
    "import pandas as pd \n",
    "table_7 = {\"Atajos de teclado y comandos\": [\"40i-\", \"10ihola mundo\", \"i\", \":put=range(1,10)\", \"for i in range(0,50,1) | put='192.168.1.'.i | endfor\"], \"Funci\\u00f3n\": [\"Insertar \", \"Escribir \", \" + \", \"Escribir los n\\u00fameros del \", \"Escribe del \"]} \n",
    "df = pd.DataFrame(table_7) \n",
    "df"
   ]
  },
  {
   "cell_type": "markdown",
   "id": "7b593128",
   "metadata": {},
   "source": [
    "# Atajos de teclado y comandos para copiar y pegar texto en VIM"
   ]
  },
  {
   "cell_type": "code",
   "execution_count": null,
   "id": "9b1533b1",
   "metadata": {},
   "outputs": [],
   "source": [
    "import pandas as pd \n",
    "table_8 = {\"Atajos de teclado o f\\u00f3rmulas\": [\"yy\", \"2yy\", \"y$\", \"yw\", \"yiw\", \":10,20y\", \"120y\", \"dd\", \"2dd\", \"d$\", \"dw\", \"diw\", \"x\", \"p\", \":129put\", \"shift \"], \"Funci\\u00f3n\": [\"Para copiar una l\\u00ednea entera.\", \"Copiar 2 l\\u00edneas a partir de donde tenemos el cursor.\", \"Copiar desde donde tenemos posicionado el cursor hasta el final de la l\\u00ednea.\", \"Copiar la palabra a partir desde donde tenemos posicionado el cursor hasta el final de la palabra.\", \"Copiar la palabra actual.\", \"Copiar de la l\\u00ednea 10 a la l\\u00ednea 20.\", \"Copiar la l\\u00ednea 120.\", \"Para cortar una l\\u00ednea entera.\", \"Cortar 2 l\\u00edneas a partir de donde tenemos el cursor.\", \" o \", \"Cortar la palabra desde donde tenemos posicionado el cursor hasta el final de la palabra.\", \"Cortar la palabra actual.\", \"Cortar una car\\u00e1cter.\", \"Pegar una l\\u00ednea en la l\\u00ednea despu\\u00e9s de donde tenemos el cursor.\", \"Pegar una l\\u00ednea o conjunto de l\\u00edneas que tenemos en el portapapeles a la l\\u00ednea \", \"Pegar una l\\u00ednea en la l\\u00ednea antes de donde tenemos el cursor.\"]} \n",
    "df = pd.DataFrame(table_8) \n",
    "df"
   ]
  },
  {
   "cell_type": "markdown",
   "id": "5f116287",
   "metadata": {},
   "source": [
    "# Mover una línea de posición"
   ]
  },
  {
   "cell_type": "code",
   "execution_count": null,
   "id": "a1c1ab56",
   "metadata": {},
   "outputs": [],
   "source": [
    "import pandas as pd \n",
    "table_9 = {\"Atajos de teclado\": [\":.-1m.+1\", \":19m17\", \":.-4,.-2m.+8\"], \"Funci\\u00f3n\": [\"Para mover la l\\u00ednea justo superior a la actual a la l\\u00ednea inferior justo al actual.\", \"Mover la l\\u00ednea \", \"Mover la l\\u00ednea de la \"]} \n",
    "df = pd.DataFrame(table_9) \n",
    "df"
   ]
  },
  {
   "cell_type": "markdown",
   "id": "65f771ac",
   "metadata": {},
   "source": [
    "# Seleccionar texto en modo visual y acciones que podemos realizar en modo visual"
   ]
  },
  {
   "cell_type": "code",
   "execution_count": null,
   "id": "239e29bc",
   "metadata": {},
   "outputs": [],
   "source": [
    "import pandas as pd \n",
    "table_10 = {\"Atajos de teclado\": [\"v\", \"V\", \"Ctrl\", \"iw\", \"aw\", \"ab\", \"it\", \"aB\", \"iB\", \"at\", \"it\", \"o\", \"O\", \"j\", \"is\", \"ip\", \"b\", \"e\", \"$\", \"^\", \"awd$p\", \"u\", \"U\", \">\", \"<\", \"Esc\"], \"Funci\\u00f3n\": [\"Acceder al modo visual. (Modo visual)\", \"Iniciar el modo visual seleccionando toda una l\\u00ednea. Solo permite seleccionar lineas enteras. (Modo l\\u00ednea visual)\", \"Inicia en modo Bloque visual.\", \"Seleccionar la palabra sobre la que tenemos el cursor.\", \"Seleccionar la palabra sobre la que tenemos el cursor incluyendo el espacio.\", \"Seleccionar un bloque de texto que tenemos delimitado por par\\u00e9ntesis \", \"Seleccionar un bloque de texto que tenemos delimitado por par\\u00e9ntesis \", \"Seleccionar un bloque de texto que tenemos delimitado por corchetes \", \"Seleccionar un bloque de texto que tenemos delimitado por corchetes \", \"Seleccionar un bloque de texto delimitado etiquetas \", \"Seleccionar un bloque de texto que tenemos delimitado etiquetas \", \"Moverse a la parte inicial de un bloque delimitado por \", \"Moverse a la parte final de un bloque delimitado por \", \"Selecciona una frase entera y se va la siguiente l\\u00ednea.\", \"Selecciona frase hasta el primer punto.\", \"Seleccionar una p\\u00e1rrafo completo.\", \"Selecciona desde el cursor al inicio de la palabra.\", \"Selecciona des del cursor al final de la palabra.\", \"Seleccionar des del cursor al final de la l\\u00ednea.\", \"Seleccionar des del cursor al primer car\\u00e1cter imprimible de la l\\u00ednea.\", \"Seleccionar una palabra y moverla al final de un p\\u00e1rrafo.\", \"Para transformar todo el texto seleccionado en min\\u00fasculas.\", \"Para transformar todo el texto seleccionado en may\\u00fasculas\", \"Mover la l\\u00ednea en que tenemos el cursor a la derecha. (Aplica sangr\\u00eda al texto.)\", \"Mover la l\\u00ednea en que tenemos el cursor a la izquierda. (Aplica sangr\\u00eda al texto.)\", \"Salir del modo visual.\"]} \n",
    "df = pd.DataFrame(table_10) \n",
    "df"
   ]
  },
  {
   "cell_type": "markdown",
   "id": "5d81bf31",
   "metadata": {},
   "source": [
    "# Crear marcas en un fichero de VIM"
   ]
  },
  {
   "cell_type": "code",
   "execution_count": null,
   "id": "28ab182e",
   "metadata": {},
   "outputs": [],
   "source": [
    "import pandas as pd \n",
    "table_11 = {\"Atajos de teclado\": [\"m \", \"`[a-z]\", \"' '\", \"'a\", \"`\", \":delmarks a\", \":delmarks!\", \":delmarks a-d\", \":delmarks aBc\"], \"Funci\\u00f3n \\u2013 Explicaci\\u00f3n\": [\"Si en modo normal presionamos \", \"Si una vez creada la marca \", \"Para volver al inicio de la l\\u00ednea en que hemos introducido la marca.\", \"Nos traslada al inicio de la l\\u00ednea en que a\\u00f1adimos la marca \", \"Para ir a la marca anterior. Si estamos en la marca \", \"Eliminar la marca \", \"Eliminar todas las marcas locales o min\\u00fasculas de un fichero.\", \"Eliminar todas las marcas de la \", \"Para eliminar las marcas \"]} \n",
    "df = pd.DataFrame(table_11) \n",
    "df"
   ]
  },
  {
   "cell_type": "markdown",
   "id": "07904b3f",
   "metadata": {},
   "source": [
    "# Aplicar sangrías de texto a un texto en VIM de forma manual"
   ]
  },
  {
   "cell_type": "code",
   "execution_count": null,
   "id": "80bf21db",
   "metadata": {},
   "outputs": [],
   "source": [
    "import pandas as pd \n",
    "table_12 = {\"Atajos de teclado\": [\">>\", \"3 >>\", \"<<\", \"]p\", \"v \", \"Ctrl\", \"Ctrl\"], \"Funci\\u00f3n del atajo de teclado\": [\"Para sangrar un texto. (El texto se mueve a la derecha)\", \"Realizar un sangrado en 3 l\\u00edneas a partir de donde tenemos ubicado el cursor.\", \"Para deshacer la sangr\\u00eda. (El texto se mueve a la izquierda)\", \"Pegar y ajustar a la sangr\\u00eda actual.\", \"Seleccionar una frase en modo visual y realizar una sangr\\u00eda a la derecha.\", \"Para aplicar un sangrado cuando estamos en el modo insertar. (Mueve texto a la derecha)\", \"Para aplicar un sangrado cuando estamos en el modo insertar. (Mueve texto a la izquierda)\"]} \n",
    "df = pd.DataFrame(table_12) \n",
    "df"
   ]
  },
  {
   "cell_type": "markdown",
   "id": "4ebcc80f",
   "metadata": {},
   "source": [
    "# Deshacer y rehacer cambios en VIM"
   ]
  },
  {
   "cell_type": "code",
   "execution_count": null,
   "id": "dd932293",
   "metadata": {},
   "outputs": [],
   "source": [
    "import pandas as pd \n",
    "table_13 = {\"Atajos de teclado o comandos\": [\"u\", \"2u\", \"U\", \"ctrl \", \"3 \", \":earlier 1h\", \":later 30m\"], \"Funci\\u00f3n\": [\"Para deshacer el \\u00faltimo/s cambio/s realizado/s.\", \"Para deshacer los 2 \\u00faltimos cambios realizados.\", \"Restaura la \\u00faltima l\\u00ednea modificada. Una vez restaurada no podemos rehacer el cambio.\", \" o \", \"Para rehacer los 3 \\u00faltimos cambios que hemos desecho.\", \"Deshacer todos los cambios realizados en la \\u00faltima hora.\", \"Rehacer los cambios realizados en la \\u00faltima media hora.\"]} \n",
    "df = pd.DataFrame(table_13) \n",
    "df"
   ]
  },
  {
   "cell_type": "markdown",
   "id": "db70aef7",
   "metadata": {},
   "source": [
    "# Atajos de teclado y comandos para eliminar caracteres y líneas en VIM"
   ]
  },
  {
   "cell_type": "code",
   "execution_count": null,
   "id": "aca307a8",
   "metadata": {},
   "outputs": [],
   "source": [
    "import pandas as pd \n",
    "table_14 = {\"Atajo de teclado o comandos\": [\"x\", \"3x\", \"X\", \"r\", \"s\", \"dw\", \"cw\", \"diw\", \"ciw\", \"c$\", \"cc\", \"d6w\", \"d6b\", \"c3w\", \"dd\", \"shift + d\", \"d0\", \"cc\", \"shift + c\", \"c0\", \"2dd\", \"2cc\", \"Ctrl+h\", \"Ctrl+w\", \"Ctrl+u\", \"xp\", \":%d\", \"dgg\", \"dG\", \":[2],[4]\", \":1,.-1d\", \":.+1,$d\", \":g/<patr\\u00f3n>/d\", \":g!/<patr\\u00f3n>/d\", \":g/^A/d\", \":g/^$/d\", \":.-2,.+8d\"], \"Funci\\u00f3n\": [\"Para eliminar un car\\u00e1cter en modo normal.\", \"Elimina 3 caracteres a partir de donde tenemos posicionado el cursor.\", \"Borrar tan solo un car\\u00e1cter a la izquierda del cursor.\", \"Reemplazar una car\\u00e1cter.\", \"Eliminar un car\\u00e1cter y cambiar a modo insertar.\", \"Borrar la palabra desde donde tengamos el cursor hasta el final de la palabra.\", \"Borrar la palabra desde donde tengamos el cursor hasta el final de la palabra y cambiar a modo insertar.\", \"Borrar la palabra entera sobre la que se encuentra el cursor.\", \"Borrar la palabra entera sobre la que se encuentra el cursor y cambiar a modo insertar.\", \"Borrar todo el texto hasta el final de l\\u00ednea y pasar a modo insertar.\", \" o \", \"Eliminar 6 palabras a partir de donde tengamos posicionado el cursor.\", \"Eliminar 6 palabras anteriores a donde tenemos posicionado el cursor.\", \"Eliminar 3 palabras a partir de donde tengamos posicionado el cursor y cambiar a modo insertar.\", \"Para borrar/cortar una l\\u00ednea entera.\", \"Borrar desde la posici\\u00f3n del cursor hasta el final de la l\\u00ednea.\", \"Borrar desde la posici\\u00f3n del cursor hasta el inicio de la l\\u00ednea.\", \"Para borrar/cortar toda un l\\u00ednea entera y cambiar a modo insertar.\", \"Borrar desde la posici\\u00f3n del cursor hasta el final de la l\\u00ednea y cambiar al modo insertar.\", \"Borrar desde la posici\\u00f3n del cursor hasta el inicio de la l\\u00ednea y cambiar al modo insertar.\", \"Borrar/cortar 2 l\\u00edneas de golpe a partir de donde tenemos posicionado el cursor.\", \"Borrar/cortar 2 l\\u00edneas de golpe a partir de donde tenemos posicionado el cursor y cambiar al modo insertar.\", \"Estando en modo inserci\\u00f3n elimina el car\\u00e1cter que est\\u00e1 antes del cursor.\", \"Estando en modo inserci\\u00f3n elimina toda la palabra que hay justo detr\\u00e1s del cursor.\", \"Estando en modo inserci\\u00f3n elimina toda la l\\u00ednea que hay detr\\u00e1s del cursor.\", \"Transponer 2 letras.\", \"Para borrar todas las l\\u00edneas de un fichero.\", \"Borrar desde la posici\\u00f3n actual del cursor hasta al principio del fichero.\", \"Borrar desde la posici\\u00f3n actual del cursor hasta al final del fichero.\", \"Para eliminar las l\\u00edneas de la 2 a la 4 podemos usar la formula \", \"Eliminar todas las l\\u00edneas antes de la l\\u00ednea actual.\", \"Eliminar todas las l\\u00edneas despu\\u00e9s de la l\\u00ednea actual.\", \"Eliminar todas las filas que contengan un determinado patr\\u00f3n o palabra. Para eliminar todas las filas que contengan la palabra importante usaremos el comando \", \"Borrar todas las l\\u00edneas que no contengan una determinada palabra o patr\\u00f3n. Por ejemplo \", \"Eliminar todas las l\\u00edneas que empiezan por la letra \", \"Para eliminar todas las l\\u00edneas vac\\u00edas de un documento.\", \"Eliminar l\\u00edneas desde 2 l\\u00edneas encima de mi posici\\u00f3n hasta 8 l\\u00edneas debajo de mi posici\\u00f3n.\"]} \n",
    "df = pd.DataFrame(table_14) \n",
    "df"
   ]
  },
  {
   "cell_type": "markdown",
   "id": "b8730219",
   "metadata": {},
   "source": [
    "# Buscar una palabra o frase en VIM"
   ]
  },
  {
   "cell_type": "code",
   "execution_count": null,
   "id": "c78bd905",
   "metadata": {},
   "outputs": [],
   "source": [
    "import pandas as pd \n",
    "table_15 = {\"Atajo de teclado\": [\"/palabra_a_buscar\", \"/\\\\<palabra_a_buscar\\\\>\", \"?palabra_a_buscar\", \"n\", \"Shift+n\", \"ggn\", \"Gn\", \"*\", \"#\", \"3/palabra_a_buscar\"], \"Funci\\u00f3n\": [\"Para buscar todas las palabras que contengan las palabras \", \"Buscar una palabra completa y exacta.\", \"Buscar todas las palabras que contengan un texto determinado y ubicar el cursor en la primera ocurrencia anterior a donde tenemos ubicado el cursor.\", \"Una vez realizada la b\\u00fasqueda la letra \", \"Tiene la misma funci\\u00f3n que \", \"Para ir a la primera aparici\\u00f3n de la palabra buscada.\", \"Para ir a la \\u00faltima aparici\\u00f3n de la palabra buscada.\", \"Sobre la palabra que queramos buscar presionamos \", \"Sobre la palabra que queramos buscar presionamos \", \"Buscar\\u00e1 todas las palabras que contengan la palabra a buscar y el cursor quedar\\u00e1 ubicado en la tercera ocurrencia.\"]} \n",
    "df = pd.DataFrame(table_15) \n",
    "df"
   ]
  },
  {
   "cell_type": "markdown",
   "id": "e12e6dcf",
   "metadata": {},
   "source": [
    "# Buscar y reemplazar palabras y caracteres en VIM"
   ]
  },
  {
   "cell_type": "code",
   "execution_count": null,
   "id": "1a57e658",
   "metadata": {},
   "outputs": [],
   "source": [
    "import pandas as pd \n",
    "table_16 = {\"Atajo de teclado o f\\u00f3rmula\": [\"r\", \"R\", \"r\\u00f3\", \"10r\\u00f3\", \":s/geekland/Geekland\", \":s/geekland/Geekland/g\", \":%s/geekland/Geekland/g\", \":%s/geekland/Geekland/gc\", \":%s!Geekland!ubuntu/scripts!gi\", \":%s/\\\\<geek\\\\>/Linux/gc\", \":5,12s/foo/bar/g\", \":'a,'bs/foo/bar/g\", \":22s/Linux/Geekland/I\", \":.s/Geekland/Linux/I\", \"g\", \"g\"], \"Funci\\u00f3n\": [\"Permite reemplazar un car\\u00e1cter cuando estamos en modo normal.\", \"Se activa el modo reemplazar para cambiar los caracteres que queramos. No se saldr\\u00e1 del modo reemplazar hasta que presionemos la tecla \", \"Reemplaza la letra que se\\u00f1ala el cursor por una \", \"Reemplaza las 10 letras a partir de la posici\\u00f3n actual del cursor por \", \"Reemplaza todas las palabras que contienen \", \"Remplaza todas las palabras que contienen \", \"Remplaza todas las palabras que contienen \", \"Para reemplazar todas las ocurrencias \", \"Remplaza todas las palabras que contienen \", \"Reemplaza la palabra exacta \", \"Cambiar \", \"Cambiar \", \"Reemplazar todas las palabras que contengan \", \"Reemplazar todas las palabras que contengan \", \"Transforma una frase entera a min\\u00fasculas.\", \"Transforma una frase entera a may\\u00fasculas.\"]} \n",
    "df = pd.DataFrame(table_16) \n",
    "df"
   ]
  },
  {
   "cell_type": "markdown",
   "id": "e9308da2",
   "metadata": {},
   "source": [
    "# Especificando rangos en VIM"
   ]
  },
  {
   "cell_type": "code",
   "execution_count": null,
   "id": "5d72ac8f",
   "metadata": {},
   "outputs": [],
   "source": [
    "import pandas as pd \n",
    "table_17 = {\"Ejemplos de rangos\": [\"%\", \"$\", \".\", \"'a,'b\", \":17,20d\", \":.-2,.+8y\"], \"Significado\": [\"El s\\u00edmbolo \", \"El s\\u00edmbolo \", \"Representa la l\\u00ednea actual en que esta posicionado el cursor.\", \"Bloque de l\\u00edneas entre las marcas \", \"Borramos las l\\u00edneas 17, 18, 19 y 20.\", \"Para indicar rangos con numeraci\\u00f3n relativa. Con el ejemplo indicado copiamos el contenido desde 2 l\\u00edneas encima de mi posici\\u00f3n actual hasta 8 l\\u00edneas debajo de mi posici\\u00f3n.\"]} \n",
    "df = pd.DataFrame(table_17) \n",
    "df"
   ]
  },
  {
   "cell_type": "markdown",
   "id": "4dd480af",
   "metadata": {},
   "source": [
    "# Juntar 2 Lineas en VIM"
   ]
  },
  {
   "cell_type": "code",
   "execution_count": null,
   "id": "52b71fe1",
   "metadata": {},
   "outputs": [],
   "source": [
    "import pandas as pd \n",
    "table_18 = {\"Atajo de teclado o f\\u00f3rmula\": [\"Shift \", \"gJ\", \":join\"], \"Funci\\u00f3n\": [\"Para juntar 2 l\\u00edneas.\", \"Une la l\\u00ednea que tenemos debajo del cursor con la actual sin dejar espacio entre ellas.\", \"F\\u00f3rmula a usar en el caso que se quieran juntar 2 l\\u00edneas.\"]} \n",
    "df = pd.DataFrame(table_18) \n",
    "df"
   ]
  },
  {
   "cell_type": "markdown",
   "id": "54e5837f",
   "metadata": {},
   "source": [
    "# Realizar pliegues manuales en VIM"
   ]
  },
  {
   "cell_type": "code",
   "execution_count": null,
   "id": "e5d18ed9",
   "metadata": {},
   "outputs": [],
   "source": [
    "import pandas as pd \n",
    "table_19 = {\"Atajos de teclados\": [\"zf <movimiento arriba o abajo>\", \"zf4j\", \"zf2}\", \"zf2{\", \"zo\", \"zR\", \"zd\", \"zE\", \"zc\", \"zM\", \"za\", \"zj\", \"zk\"], \"Funci\\u00f3n\": [\"Definir un pliegue.\", \"Plegar las 4 l\\u00edneas que tenemos debajo del cursor.\", \"Plegar los 2 p\\u00e1rrafos justo por debajo del cursor.\", \"Plegar los 2 p\\u00e1rrafos justo por encima del cursor.\", \"Abrir el pliegue sobre el que est\\u00e1 posicionado el cursor.\", \"Abre todos los pliegues del documento.\", \"Eliminar el pliegue que tenemos encima del cursor.\", \"Eliminar todos los pliegues del documento.\", \"Cerrar el pliegue que tenemos encima del cursor.\", \"Cierra todos los pliegues existentes en el documento.\", \"Abrir y/o cerrar el pliegue que tenemos encima del cursor.\", \"Desplaza el cursor al siguiente pliegue.\", \"Desplaza el cursor al pliegue anterior.\"]} \n",
    "df = pd.DataFrame(table_19) \n",
    "df"
   ]
  },
  {
   "cell_type": "markdown",
   "id": "78ce3998",
   "metadata": {},
   "source": [
    "# Registros de VIM (portapapeles en VIM)"
   ]
  },
  {
   "cell_type": "code",
   "execution_count": null,
   "id": "f7e11e04",
   "metadata": {},
   "outputs": [],
   "source": [
    "import pandas as pd \n",
    "table_20 = {\"Atajos de teclado y comandos\": [\":registers\", \"\\\"1yy\", \"\\\"1p\", \"\\\"ayy\", \"\\\"Ayy\", \"\\\"ap\", \":registers a\", \":reg 4 c\", \"\\\"+yy\", \"\\\"+p\", \"\\\"*p\", \"Ctrl+r+a\", \"Ctrl+r \\\"\", \"Ctrl+r +\", \"Ctrl+r *\"], \"Funci\\u00f3n\": [\" o \", \"Copiar una l\\u00ednea al registro num\\u00e9rico \", \"Pegar el contenido del registro num\\u00e9rico \", \"Copiar una l\\u00ednea al registro nominal \", \"A\\u00f1ade una l\\u00ednea al registro nominal \", \"Pegar el contenido del registro nominal \", \" o \", \"Mostrar el contenido que tiene almacenado el registro num\\u00e9rico \", \"Copia la l\\u00ednea actual al portapapeles del sistema operativo.\", \"Pegar el contenido que tenemos almacenado en el portapapeles del sistema operativo al documento que editamos.\", \"Pegar un texto que tengamos seleccionado en nuestro navegador o en cualquier otro software de nuestro sistema operativo. No hace falta que el texto est\\u00e9 copiado en el portapapeles del sistema.\", \"Pega el contenido del registro \", \"Pega el contenido del registro por defecto del portapapeles de VIM \", \"Pegar el contenido almacenado en el portapapeles del sistema operativo en modo inserci\\u00f3n.\", \"Pegar el contenido que tenemos seleccionado en cualquier aplicaci\\u00f3n de nuestro sistema operativo en el modo inserci\\u00f3n de texto. No hace falta que el texto est\\u00e9 copiado en el portapapeles del sistema.\"]} \n",
    "df = pd.DataFrame(table_20) \n",
    "df"
   ]
  },
  {
   "cell_type": "markdown",
   "id": "70af4b2a",
   "metadata": {},
   "source": [
    "# Usar la terminal de Linux en VIM"
   ]
  },
  {
   "cell_type": "code",
   "execution_count": null,
   "id": "76707caf",
   "metadata": {},
   "outputs": [],
   "source": [
    "import pandas as pd \n",
    "table_21 = {\"Registro\": [\"\\\":\", \"\\\"%\", \"\\\".\"], \"Contenido almacenado por el registro\": [\"Almacena el \\u00faltimo comando ejecutado.\", \"Contiene la ruta que usamos para abrir el fichero de VIM que estamos editando.\", \"Contiene el \\u00faltimo texto insertado.\"]} \n",
    "df = pd.DataFrame(table_21) \n",
    "df"
   ]
  },
  {
   "cell_type": "markdown",
   "id": "f28cf44e",
   "metadata": {},
   "source": [
    "# Encadenar comandos en VIM"
   ]
  },
  {
   "cell_type": "code",
   "execution_count": null,
   "id": "b65ae2ef",
   "metadata": {},
   "outputs": [],
   "source": [
    "import pandas as pd \n",
    "table_22 = {\"Registro\": [\"\\\"_\", \"\\\":\", \"\\\"-\", \"\\\"\\\\\", \"\\\"=\"], \"Contenido almacenado por el registro\": [\"Corresponde al registro agujero negro. Para evitar que una palabra borrada quede almacenada al registro por defecto de VIM podemos usar el atajo de teclas \", \"Almacena el \\u00faltimo comando ejecutado.\", \"Contiene todo el contenido que hemos borrado o modificado y que no tenga una longitud superior a una l\\u00ednea.\", \"Almacena el contenido de la \\u00faltima b\\u00fasqueda.\", \"Registro que permite realizar operaciones matem\\u00e1ticas con VIM. Para realizar la suma 2 + 2 en modo normal presionaremos las teclas \"]} \n",
    "df = pd.DataFrame(table_22) \n",
    "df"
   ]
  }
 ],
 "metadata": {},
 "nbformat": 4,
 "nbformat_minor": 5
}
